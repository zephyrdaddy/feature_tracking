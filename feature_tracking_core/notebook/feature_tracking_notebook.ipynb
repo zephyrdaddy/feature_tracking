{
 "cells": [
  {
   "cell_type": "code",
   "execution_count": null,
   "metadata": {},
   "outputs": [],
   "source": [
    "# Script for demonstrating feature_tracking\n",
    "from matplotlib import pyplot as plt\n",
    "import numpy as np\n",
    "import pykitti\n",
    "\n",
    "import feature_tracking_core.tracker_libviso as t"
   ]
  },
  {
   "cell_type": "code",
   "execution_count": null,
   "metadata": {},
   "outputs": [],
   "source": [
    "basedir = '/limo_data/dataset'\n",
    "sequence = '04'"
   ]
  },
  {
   "cell_type": "code",
   "execution_count": null,
   "metadata": {},
   "outputs": [],
   "source": [
    "# Load the data. Optionally, specify the frame range to load.\n",
    "# dataset = pykitti.odometry(basedir, sequence)\n",
    "dataset = pykitti.odometry(basedir, sequence, frames=range(0, 20, 2))"
   ]
  },
  {
   "cell_type": "code",
   "execution_count": null,
   "metadata": {},
   "outputs": [],
   "source": [
    "tracker = t.TrackerLibViso()\n",
    "for image in dataset.cam0:\n",
    "    t.push_back(tracker, np.expand_dims(np.asarray(image), axis=-1))"
   ]
  },
  {
   "cell_type": "code",
   "execution_count": null,
   "metadata": {},
   "outputs": [],
   "source": [
    "tracklets = t.get_tracklets(tracker)\n",
    "print(\"Number of tracklets={}\".format(len(tracklets)))\n",
    "tracklets_numpy = [np.asarray([(point.p1_.u_, point.p1_.v_) for point in tracklet]) for tracklet in tracklets]"
   ]
  },
  {
   "cell_type": "code",
   "execution_count": null,
   "metadata": {},
   "outputs": [],
   "source": [
    "plt.imshow(dataset.get_cam0(-1), cmap='gray')\n",
    "for t in tracklets_numpy:\n",
    "    plt.plot(t[:,0], t[:,1])"
   ]
  }
 ],
 "metadata": {
  "jupytext": {
   "cell_metadata_filter": "-all",
   "executable": "/usr/bin/env python",
   "main_language": "python",
   "notebook_metadata_filter": "-all"
  }
 },
 "nbformat": 4,
 "nbformat_minor": 2
}
